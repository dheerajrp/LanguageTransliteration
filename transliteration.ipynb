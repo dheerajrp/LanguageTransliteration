{
 "cells": [
  {
   "cell_type": "code",
   "execution_count": 1,
   "id": "9b31f7df-d11f-4760-8671-dd7ca6f80a7d",
   "metadata": {},
   "outputs": [
    {
     "name": "stderr",
     "output_type": "stream",
     "text": [
      "2022-09-23 08:03:00.069872: W tensorflow/stream_executor/platform/default/dso_loader.cc:64] Could not load dynamic library 'libcudart.so.11.0'; dlerror: libcudart.so.11.0: cannot open shared object file: No such file or directory\n",
      "2022-09-23 08:03:00.069901: I tensorflow/stream_executor/cuda/cudart_stub.cc:29] Ignore above cudart dlerror if you do not have a GPU set up on your machine.\n"
     ]
    }
   ],
   "source": [
    "import re\n",
    "from typing import List\n",
    "import pandas as pd\n",
    "from pandas import DataFrame\n",
    "import tensorflow as tf\n",
    "from tensorflow.keras.models import Model\n",
    "from tensorflow.keras.layers import Input, LSTM, Dense\n",
    "import numpy as np"
   ]
  },
  {
   "cell_type": "code",
   "execution_count": 2,
   "id": "ebed2c54-cfd2-4261-9880-7dfbd2b51d1c",
   "metadata": {},
   "outputs": [],
   "source": [
    "data = pd.read_xml('nlp_data/NEWS2018_M-EnHi_trn.xml')"
   ]
  },
  {
   "cell_type": "code",
   "execution_count": 3,
   "id": "23793849-8c66-4344-aadb-9bdec7876e9b",
   "metadata": {},
   "outputs": [
    {
     "data": {
      "text/html": [
       "<div>\n",
       "<style scoped>\n",
       "    .dataframe tbody tr th:only-of-type {\n",
       "        vertical-align: middle;\n",
       "    }\n",
       "\n",
       "    .dataframe tbody tr th {\n",
       "        vertical-align: top;\n",
       "    }\n",
       "\n",
       "    .dataframe thead th {\n",
       "        text-align: right;\n",
       "    }\n",
       "</style>\n",
       "<table border=\"1\" class=\"dataframe\">\n",
       "  <thead>\n",
       "    <tr style=\"text-align: right;\">\n",
       "      <th></th>\n",
       "      <th>ID</th>\n",
       "      <th>SourceName</th>\n",
       "      <th>TargetName</th>\n",
       "    </tr>\n",
       "  </thead>\n",
       "  <tbody>\n",
       "    <tr>\n",
       "      <th>0</th>\n",
       "      <td>1</td>\n",
       "      <td>aabhaa</td>\n",
       "      <td>आभा</td>\n",
       "    </tr>\n",
       "    <tr>\n",
       "      <th>1</th>\n",
       "      <td>2</td>\n",
       "      <td>aabheer</td>\n",
       "      <td>आभीर</td>\n",
       "    </tr>\n",
       "    <tr>\n",
       "      <th>2</th>\n",
       "      <td>3</td>\n",
       "      <td>aabhijaat</td>\n",
       "      <td>आभिजात</td>\n",
       "    </tr>\n",
       "    <tr>\n",
       "      <th>3</th>\n",
       "      <td>4</td>\n",
       "      <td>aabid</td>\n",
       "      <td>आबिद</td>\n",
       "    </tr>\n",
       "    <tr>\n",
       "      <th>4</th>\n",
       "      <td>5</td>\n",
       "      <td>aabshar</td>\n",
       "      <td>आबशर</td>\n",
       "    </tr>\n",
       "    <tr>\n",
       "      <th>...</th>\n",
       "      <td>...</td>\n",
       "      <td>...</td>\n",
       "      <td>...</td>\n",
       "    </tr>\n",
       "    <tr>\n",
       "      <th>12932</th>\n",
       "      <td>12933</td>\n",
       "      <td>zulm ko jala doonga</td>\n",
       "      <td>ज़ुल्म को जला दूँगा</td>\n",
       "    </tr>\n",
       "    <tr>\n",
       "      <th>12933</th>\n",
       "      <td>12934</td>\n",
       "      <td>zunheboto</td>\n",
       "      <td>जुन्हेबोटो</td>\n",
       "    </tr>\n",
       "    <tr>\n",
       "      <th>12934</th>\n",
       "      <td>12935</td>\n",
       "      <td>zurich financial services</td>\n",
       "      <td>ज़्यूरिक फ़ाइनेंशियल सर्विसेज़</td>\n",
       "    </tr>\n",
       "    <tr>\n",
       "      <th>12935</th>\n",
       "      <td>12936</td>\n",
       "      <td>zurna</td>\n",
       "      <td>ज़ुर्ना</td>\n",
       "    </tr>\n",
       "    <tr>\n",
       "      <th>12936</th>\n",
       "      <td>12937</td>\n",
       "      <td>zwyndrecht</td>\n",
       "      <td>ज़ॉएन्ड्रेच</td>\n",
       "    </tr>\n",
       "  </tbody>\n",
       "</table>\n",
       "<p>12937 rows × 3 columns</p>\n",
       "</div>"
      ],
      "text/plain": [
       "          ID                 SourceName                      TargetName\n",
       "0          1                     aabhaa                             आभा\n",
       "1          2                    aabheer                            आभीर\n",
       "2          3                  aabhijaat                          आभिजात\n",
       "3          4                      aabid                            आबिद\n",
       "4          5                    aabshar                            आबशर\n",
       "...      ...                        ...                             ...\n",
       "12932  12933        zulm ko jala doonga             ज़ुल्म को जला दूँगा\n",
       "12933  12934                  zunheboto                      जुन्हेबोटो\n",
       "12934  12935  zurich financial services  ज़्यूरिक फ़ाइनेंशियल सर्विसेज़\n",
       "12935  12936                      zurna                          ज़ुर्ना\n",
       "12936  12937                 zwyndrecht                     ज़ॉएन्ड्रेच\n",
       "\n",
       "[12937 rows x 3 columns]"
      ]
     },
     "execution_count": 3,
     "metadata": {},
     "output_type": "execute_result"
    }
   ],
   "source": [
    "data"
   ]
  },
  {
   "cell_type": "code",
   "execution_count": 4,
   "id": "9a223edf-6fe9-41be-aafd-8cfc0400307d",
   "metadata": {},
   "outputs": [
    {
     "data": {
      "text/plain": [
       "(12937, 3)"
      ]
     },
     "execution_count": 4,
     "metadata": {},
     "output_type": "execute_result"
    }
   ],
   "source": [
    "# checking shape\n",
    "data.shape"
   ]
  },
  {
   "cell_type": "code",
   "execution_count": 5,
   "id": "d2ebc601-fe26-4cf7-bcc4-4fb33c0322dc",
   "metadata": {},
   "outputs": [
    {
     "data": {
      "text/plain": [
       "ID            0\n",
       "SourceName    0\n",
       "TargetName    0\n",
       "dtype: int64"
      ]
     },
     "execution_count": 5,
     "metadata": {},
     "output_type": "execute_result"
    }
   ],
   "source": [
    "data.isnull().sum()"
   ]
  },
  {
   "cell_type": "code",
   "execution_count": 6,
   "id": "f5481601-2704-4ed4-b914-ee749874d8c4",
   "metadata": {},
   "outputs": [],
   "source": [
    "input_texts = []\n",
    "target_texts = []\n",
    "\n",
    "def preprocessing(dataframe: DataFrame, \n",
    "                  column: str\n",
    "                 ) -> List:\n",
    "    \"\"\"\n",
    "    Processes a column of a dataframe.\n",
    "    \n",
    "    Args:\n",
    "        dataframe (Dataframe):\n",
    "            The dataframe.\n",
    "        column (str):\n",
    "            The column you want to process.\n",
    "            If column = SourceName, the steps like character elimination except \n",
    "            alphabets using regexp, lowering, splitting, joining, appending to a \n",
    "            new list are carried out.\n",
    "            If column = targetName, the steps like character elimination of numbers \n",
    "            using regexp, lowering, splitting, joining, appending to a new list are \n",
    "            carried out.\n",
    "    \n",
    "    Returns:\n",
    "        list:\n",
    "            The list of the processed sentences.\n",
    "    \"\"\"\n",
    "    for i in range(0, len(dataframe)):\n",
    "        if column == \"SourceName\":\n",
    "            review = re.sub('[^a-zA-Z]', ' ', dataframe[str(column)][i])\n",
    "            review = review.lower()\n",
    "            review = review.split()\n",
    "            review = ' '.join(review)\n",
    "            input_texts.append('\\t'+review+'\\n')\n",
    "        if column == \"TargetName\":\n",
    "            review = re.sub('[0-9]', ' ', dataframe[str(column)][i])\n",
    "            review = review.lower()\n",
    "            review = review.split()\n",
    "            review = ' '.join(review)\n",
    "            target_texts.append('\\t'+review+'\\n')"
   ]
  },
  {
   "cell_type": "code",
   "execution_count": 7,
   "id": "91a4c0ec-3880-45ce-a3b2-aba6781b8931",
   "metadata": {},
   "outputs": [],
   "source": [
    "preprocessing(dataframe=data, column='SourceName')"
   ]
  },
  {
   "cell_type": "code",
   "execution_count": 8,
   "id": "ba90f69f-4d40-4548-970c-af7786f49c0d",
   "metadata": {
    "tags": []
   },
   "outputs": [],
   "source": [
    "preprocessing(dataframe=data, column='TargetName')"
   ]
  },
  {
   "cell_type": "code",
   "execution_count": 9,
   "id": "20ed98cc-5224-4a2d-bd74-748fdf7d59c3",
   "metadata": {},
   "outputs": [],
   "source": [
    "batch_size = 64 # training batch size\n",
    "epochs = 100 # no. of epochs\n",
    "latent_dim = 256 # Latent dim of encoding space\n",
    "num_samples = 10_000 # no of training samples"
   ]
  },
  {
   "cell_type": "code",
   "execution_count": 10,
   "id": "d7715468-117c-4234-846b-903b98271b73",
   "metadata": {},
   "outputs": [],
   "source": [
    "# input_characters, target_characters are the characters in the data\n",
    "input_characters = set()\n",
    "target_characters = set()"
   ]
  },
  {
   "cell_type": "code",
   "execution_count": 11,
   "id": "183cc62c-613e-4aa7-98c1-fce64618c70d",
   "metadata": {},
   "outputs": [],
   "source": [
    "# adding unique characters from both the languages\n",
    "for word in input_texts:\n",
    "    for char in word:\n",
    "        if char not in input_characters:\n",
    "            input_characters.add(char)\n",
    "for word in target_texts:\n",
    "    for char in word:\n",
    "        if char not in target_characters:\n",
    "            target_characters.add(char)"
   ]
  },
  {
   "cell_type": "code",
   "execution_count": 12,
   "id": "d8aed858-d75a-4c9f-91a3-d424882c014f",
   "metadata": {},
   "outputs": [],
   "source": [
    "num_encoder_tokens = len(input_characters)\n",
    "num_decoder_tokens = len(target_characters)\n",
    "max_encoder_seq_length = max([len(txt) for txt in input_texts])\n",
    "max_decoder_seq_length = max([len(txt) for txt in target_texts])"
   ]
  },
  {
   "cell_type": "code",
   "execution_count": 13,
   "id": "d39f7c83-ae5c-4440-b6ed-288f6ebd503b",
   "metadata": {},
   "outputs": [
    {
     "name": "stdout",
     "output_type": "stream",
     "text": [
      "Number of samples: 12937\n",
      "Number of unique input tokens: 29\n",
      "Number of unique output tokens: 81\n",
      "Max sequence length for inputs: 63\n",
      "Max sequence length for outputs: 64\n"
     ]
    }
   ],
   "source": [
    "print('Number of samples:', len(input_texts))\n",
    "print('Number of unique input tokens:', num_encoder_tokens)\n",
    "print('Number of unique output tokens:', num_decoder_tokens)\n",
    "print('Max sequence length for inputs:', max_encoder_seq_length)\n",
    "print('Max sequence length for outputs:', max_decoder_seq_length)"
   ]
  },
  {
   "cell_type": "code",
   "execution_count": 14,
   "id": "fc4475fd-fc31-445a-bffb-a48fe7b82efa",
   "metadata": {},
   "outputs": [],
   "source": [
    "input_token_index = dict(\n",
    "    [(char, i) for i, char in enumerate(input_characters)])\n",
    "target_token_index = dict(\n",
    "    [(char, i) for i, char in enumerate(target_characters)])"
   ]
  },
  {
   "cell_type": "code",
   "execution_count": 15,
   "id": "817538c4-40fd-411e-b9d3-8c579ed5a06a",
   "metadata": {},
   "outputs": [],
   "source": [
    "# creating arrays for encoder_input\n",
    "import numpy as np\n",
    "encoder_input_data = np.zeros(\n",
    "    (len(input_texts), max_encoder_seq_length, num_encoder_tokens),\n",
    "    dtype='float32')\n",
    "decoder_input_data = np.zeros(\n",
    "    (len(input_texts), max_decoder_seq_length, num_decoder_tokens),\n",
    "    dtype='float32')\n",
    "decoder_target_data = np.zeros(\n",
    "    (len(target_texts), max_decoder_seq_length, num_decoder_tokens),\n",
    "    dtype='float32')"
   ]
  },
  {
   "cell_type": "code",
   "execution_count": 16,
   "id": "2b7dcd33-1669-4c98-99c2-4916414c67fe",
   "metadata": {},
   "outputs": [],
   "source": [
    "# One hot encoding\n",
    "for i, (input_text, target_text) in enumerate(zip(input_texts, target_texts)):\n",
    "    for t, char in enumerate(input_text):\n",
    "        encoder_input_data[i, t, input_token_index[char]] = 1.\n",
    "    encoder_input_data[i, t + 1:, input_token_index[' ']] = 1.\n",
    "    \n",
    "    for t, char in enumerate(target_text):\n",
    "        # offset by one, \"teacher forcing\"\n",
    "        decoder_input_data[i, t, target_token_index[char]] = 1.\n",
    "        if t>0:\n",
    "            # decoder_target_data ahead of decoder_input_data by one timestamp\n",
    "            decoder_target_data[i, t - 1, target_token_index[char]] = 1.\n",
    "            \n",
    "    decoder_input_data[i, t + 1:, target_token_index[' ']] = 1.\n",
    "    decoder_target_data[i, t:, target_token_index[' ']] = 1."
   ]
  },
  {
   "cell_type": "code",
   "execution_count": null,
   "id": "b2084a6c-ff80-45d3-8fde-6b4fdf9c9e63",
   "metadata": {},
   "outputs": [],
   "source": []
  }
 ],
 "metadata": {
  "kernelspec": {
   "display_name": "Python 3 (ipykernel)",
   "language": "python",
   "name": "python3"
  },
  "language_info": {
   "codemirror_mode": {
    "name": "ipython",
    "version": 3
   },
   "file_extension": ".py",
   "mimetype": "text/x-python",
   "name": "python",
   "nbconvert_exporter": "python",
   "pygments_lexer": "ipython3",
   "version": "3.9.12"
  }
 },
 "nbformat": 4,
 "nbformat_minor": 5
}
